{
 "cells": [
  {
   "cell_type": "markdown",
   "metadata": {},
   "source": [
    "# The camera matrix"
   ]
  },
  {
   "cell_type": "code",
   "execution_count": 7,
   "metadata": {},
   "outputs": [],
   "source": [
    "import numpy as np\n",
    "import mujoco\n",
    "import mediapy as media\n",
    "import matplotlib.pyplot as plt\n",
    "import time\n",
    "np.random.seed(0)\n",
    "import itertools"
   ]
  },
  {
   "cell_type": "code",
   "execution_count": 8,
   "metadata": {},
   "outputs": [
    {
     "data": {
      "text/html": [
       "<table class=\"show_images\" style=\"border-spacing:0px;\"><tr><td style=\"padding:1px;\"><img width=\"320\" height=\"240\" style=\"image-rendering:auto; object-fit:cover;\" src=\"data:image/png;base64,iVBORw0KGgoAAAANSUhEUgAAAUAAAADwCAIAAAD+Tyo8AAAA9UlEQVR4nO3BAQEAAACCIP+vbkhAAQAAAAAAAAAAAAAAAAAAAAAAAAAAAAAAAAAAAAAAAAAAAAAAAAAAAAAAAAAAAAAAAAAAAAAAAAAAAAAAAAAAAAAAAAAAAAAAAAAAAAAAAAAAAAAAAAAAAAAAAAAAAAAAAAAAAAAAAAAAAAAAAAAAAAAAAAAAAAAAAAAAAAAAAAAAAAAAAAAAAAAAAAAAAAAAAAAAAAAAAAAAAAAAAAAAAAAAAAAAAAAAAAAAAAAAAAAAAAAAAAAAAAAAAAAAAAAAAAAAAAAAAAAAAAAAAAAAAAAAAAAAAAAAAAAAAAAAAPBohR0AAXbPpmUAAAAASUVORK5CYII=\"/></td></tr></table>"
      ],
      "text/plain": [
       "<IPython.core.display.HTML object>"
      ]
     },
     "metadata": {},
     "output_type": "display_data"
    }
   ],
   "source": [
    "xml = \"\"\"\n",
    "<mujoco>\n",
    "  <worldbody>\n",
    "    <light name=\"top\" pos=\"0 0 1\"/>\n",
    "    <body name=\"box_and_sphere\" euler=\"0 0 -30\">\n",
    "      <joint name=\"swing\" type=\"hinge\" axis=\"1 -1 0\" pos=\"-.2 -.2 -.2\"/>\n",
    "      <geom name=\"red_box\" type=\"box\" size=\".2 .2 .2\" rgba=\"1 0 0 1\"/>\n",
    "      <geom name=\"green_sphere\" pos=\".2 .2 .2\" size=\".1\" rgba=\"0 1 0 1\"/>\n",
    "    </body>\n",
    "  </worldbody>\n",
    "</mujoco>\n",
    "\"\"\"\n",
    "model = mujoco.MjModel.from_xml_string(xml)\n",
    "renderer = mujoco.Renderer(model)\n",
    "data = mujoco.MjData(model)\n",
    "\n",
    "mujoco.mj_forward(model, data)\n",
    "renderer.update_scene(data)\n",
    "media.show_image(renderer.render())"
   ]
  },
  {
   "cell_type": "code",
   "execution_count": 9,
   "metadata": {},
   "outputs": [],
   "source": [
    "def compute_camera_matrix(renderer, data):\n",
    "  \"\"\"Returns the 3x4 camera matrix.\"\"\"\n",
    "  # If the camera is a 'free' camera, we get its position and orientation\n",
    "  # from the scene data structure. It is a stereo camera, so we average over\n",
    "  # the left and right channels. Note: we call `self.update()` in order to\n",
    "  # ensure that the contents of `scene.camera` are correct.\n",
    "  renderer.update_scene(data)\n",
    "  pos = np.mean([camera.pos for camera in renderer.scene.camera], axis=0)\n",
    "  z = -np.mean([camera.forward for camera in renderer.scene.camera], axis=0)\n",
    "  y = np.mean([camera.up for camera in renderer.scene.camera], axis=0)\n",
    "  rot = np.vstack((np.cross(y, z), y, z))\n",
    "  fov = model.vis.global_.fovy\n",
    "\n",
    "  # Translation matrix (4x4).\n",
    "  translation = np.eye(4)\n",
    "  translation[0:3, 3] = -pos\n",
    "\n",
    "  # Rotation matrix (4x4).\n",
    "  rotation = np.eye(4)\n",
    "  rotation[0:3, 0:3] = rot\n",
    "\n",
    "  # Focal transformation matrix (3x4).\n",
    "  focal_scaling = (1./np.tan(np.deg2rad(fov)/2)) * renderer.height / 2.0\n",
    "  focal = np.diag([-focal_scaling, focal_scaling, 1.0, 0])[0:3, :]\n",
    "\n",
    "  # Image matrix (3x3).\n",
    "  image = np.eye(3)\n",
    "  image[0, 2] = (renderer.width - 1) / 2.0\n",
    "  image[1, 2] = (renderer.height - 1) / 2.0\n",
    "\n",
    "  print(f\"renderer.height:{renderer.height}\")\n",
    "  return image @ focal @ rotation @ translation"
   ]
  },
  {
   "cell_type": "markdown",
   "metadata": {},
   "source": [
    "## Project from world to camera coordinates"
   ]
  },
  {
   "cell_type": "code",
   "execution_count": 10,
   "metadata": {},
   "outputs": [
    {
     "name": "stdout",
     "output_type": "stream",
     "text": [
      "box_mat: [[ 0.8660254  0.5        0.       ]\n",
      " [-0.5        0.8660254 -0.       ]\n",
      " [-0.         0.         1.       ]]\n",
      "box_size: [0.2 0.2 0.2]\n",
      "offsets: [[-0.2  0.2]\n",
      " [-0.2  0.2]\n",
      " [-0.2  0.2]]\n",
      "xyz_global:[[-0.27320508 -0.27320508 -0.07320508 -0.07320508  0.07320508  0.07320508\n",
      "   0.27320508  0.27320508]\n",
      " [-0.07320508 -0.07320508  0.27320508  0.27320508 -0.27320508 -0.27320508\n",
      "   0.07320508  0.07320508]\n",
      " [-0.2         0.2        -0.2         0.2        -0.2         0.2\n",
      "  -0.2         0.2       ]]\n",
      "corners_homogeneous:[[-0.27320508 -0.27320508 -0.07320508 -0.07320508  0.07320508  0.07320508\n",
      "   0.27320508  0.27320508]\n",
      " [-0.07320508 -0.07320508  0.27320508  0.27320508 -0.27320508 -0.27320508\n",
      "   0.07320508  0.07320508]\n",
      " [-0.2         0.2        -0.2         0.2        -0.2         0.2\n",
      "  -0.2         0.2       ]\n",
      " [ 1.          1.          1.          1.          1.          1.\n",
      "   1.          1.        ]]\n",
      "renderer.height:240\n"
     ]
    },
    {
     "data": {
      "image/png": "[encoded data removed]",
      "text/plain": [
       "<Figure size 640x480 with 1 Axes>"
      ]
     },
     "metadata": {},
     "output_type": "display_data"
    }
   ],
   "source": [
    "#@title Project from world to camera coordinates {vertical-output: true}\n",
    "# reset the scene\n",
    "renderer.update_scene(data)\n",
    "\n",
    "\n",
    "# Get the world coordinates of the box corners\n",
    "box_pos = data.geom_xpos[model.geom('red_box').id]\n",
    "box_mat = data.geom_xmat[model.geom('red_box').id].reshape(3, 3)\n",
    "print(f\"box_mat: {box_mat}\")\n",
    "box_size = model.geom_size[model.geom('red_box').id]\n",
    "print(f\"box_size: {box_size}\")\n",
    "\n",
    "offsets = np.array([-1, 1]) * box_size[:, None]\n",
    "print(f\"offsets: {offsets}\")\n",
    "\n",
    "xyz_local = np.stack(list(itertools.product(*offsets))).T\n",
    "xyz_global = box_pos[:, None] + box_mat @ xyz_local\n",
    "print(f\"xyz_global:{xyz_global}\")\n",
    "\n",
    "# Camera matrices multiply homogenous [x, y, z, 1] vectors.\n",
    "corners_homogeneous = np.ones((4, xyz_global.shape[1]), dtype=float)\n",
    "corners_homogeneous[:3, :] = xyz_global\n",
    "print(f\"corners_homogeneous:{corners_homogeneous}\")\n",
    "# Get the camera matrix.\n",
    "m = compute_camera_matrix(renderer, data)\n",
    "\n",
    "# Project world coordinates into pixel space. See:\n",
    "# https://en.wikipedia.org/wiki/3D_projection#Mathematical_formula\n",
    "xs, ys, s = m @ corners_homogeneous\n",
    "# x and y are in the pixel coordinate system.\n",
    "x = xs / s\n",
    "y = ys / s\n",
    "\n",
    "# Render the camera view and overlay the projected corner coordinates.\n",
    "pixels = renderer.render()\n",
    "fig, ax = plt.subplots(1, 1)\n",
    "ax.imshow(pixels)\n",
    "ax.plot(x, y, '+', c='w')\n",
    "ax.set_axis_off()"
   ]
  },
  {
   "cell_type": "code",
   "execution_count": null,
   "metadata": {},
   "outputs": [],
   "source": []
  }
 ],
 "metadata": {
  "kernelspec": {
   "display_name": ".venv",
   "language": "python",
   "name": "python3"
  },
  "language_info": {
   "codemirror_mode": {
    "name": "ipython",
    "version": 3
   },
   "file_extension": ".py",
   "mimetype": "text/x-python",
   "name": "python",
   "nbconvert_exporter": "python",
   "pygments_lexer": "ipython3",
   "version": "3.9.12"
  }
 },
 "nbformat": 4,
 "nbformat_minor": 2
}
