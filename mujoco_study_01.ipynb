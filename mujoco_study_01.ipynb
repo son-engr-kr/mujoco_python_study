{
 "cells": [
  {
   "cell_type": "markdown",
   "metadata": {},
   "source": [
    "# tutorial\n",
    "\n",
    "https://mujoco.readthedocs.io/en/stable/python.html\n",
    "\n",
    "->\n",
    "\n",
    "https://colab.research.google.com/github/google-deepmind/mujoco/blob/main/python/tutorial.ipynb#scrollTo=m3MtIE5F1K7s\n"
   ]
  },
  {
   "cell_type": "markdown",
   "metadata": {},
   "source": [
    "# import"
   ]
  },
  {
   "cell_type": "code",
   "execution_count": 1,
   "metadata": {},
   "outputs": [],
   "source": [
    "import numpy as np\n",
    "import mujoco\n",
    "# mujoco.MjModel.from_xml_string('<mujoco/>')\n",
    "import mediapy as media\n",
    "# import subprocess\n",
    "# if subprocess.run('nvidia-smi').returncode:\n",
    "#   raise RuntimeError(\n",
    "#       'Cannot communicate with GPU. '\n",
    "#       'Make sure you are using a GPU Colab runtime. '\n",
    "#       'Go to the Runtime menu and select Choose runtime type.')\n",
    "\n",
    "\n",
    "# print('Setting environment variable to use GPU rendering:')\n",
    "# %env MUJOCO_GL=egl"
   ]
  },
  {
   "cell_type": "code",
   "execution_count": 2,
   "metadata": {},
   "outputs": [],
   "source": [
    "np.random.seed(0)"
   ]
  },
  {
   "cell_type": "code",
   "execution_count": 3,
   "metadata": {},
   "outputs": [],
   "source": [
    "\n",
    "xml = \"\"\"\n",
    "<mujoco>\n",
    "  <worldbody>\n",
    "    <geom name=\"red_box\" type=\"box\" size=\".2 .2 .2\" rgba=\"1 0 0 1\"/>\n",
    "    <geom name=\"green_sphere\" pos=\".2 .2 .2\" size=\".1\" rgba=\"0 1 0 1\"/>\n",
    "  </worldbody>\n",
    "</mujoco>\n",
    "\"\"\"\n",
    "model = mujoco.MjModel.from_xml_string(xml)\n"
   ]
  },
  {
   "cell_type": "code",
   "execution_count": 4,
   "metadata": {},
   "outputs": [
    {
     "data": {
      "text/plain": [
       "2"
      ]
     },
     "execution_count": 4,
     "metadata": {},
     "output_type": "execute_result"
    }
   ],
   "source": [
    "model.ngeom"
   ]
  },
  {
   "cell_type": "code",
   "execution_count": 5,
   "metadata": {},
   "outputs": [
    {
     "name": "stdout",
     "output_type": "stream",
     "text": [
      "\"Invalid name ''. Valid names: ['green_sphere', 'red_box']\"\n"
     ]
    }
   ],
   "source": [
    "try:\n",
    "  model.geom()\n",
    "except KeyError as e:\n",
    "  print(e)"
   ]
  },
  {
   "cell_type": "code",
   "execution_count": 6,
   "metadata": {},
   "outputs": [
    {
     "data": {
      "text/plain": [
       "<_MjModelGeomViews\n",
       "  bodyid: array([0])\n",
       "  conaffinity: array([1])\n",
       "  condim: array([3])\n",
       "  contype: array([1])\n",
       "  dataid: array([-1])\n",
       "  friction: array([1.e+00, 5.e-03, 1.e-04])\n",
       "  gap: array([0.])\n",
       "  group: array([0])\n",
       "  id: 1\n",
       "  margin: array([0.])\n",
       "  matid: array([-1])\n",
       "  name: 'green_sphere'\n",
       "  pos: array([0.2, 0.2, 0.2])\n",
       "  priority: array([0])\n",
       "  quat: array([1., 0., 0., 0.])\n",
       "  rbound: array([0.1])\n",
       "  rgba: array([0., 1., 0., 1.], dtype=float32)\n",
       "  sameframe: array([0], dtype=uint8)\n",
       "  size: array([0.1, 0. , 0. ])\n",
       "  solimp: array([9.0e-01, 9.5e-01, 1.0e-03, 5.0e-01, 2.0e+00])\n",
       "  solmix: array([1.])\n",
       "  solref: array([0.02, 1.  ])\n",
       "  type: array([2])\n",
       "  user: array([], dtype=float64)\n",
       ">"
      ]
     },
     "execution_count": 6,
     "metadata": {},
     "output_type": "execute_result"
    }
   ],
   "source": [
    "model.geom('green_sphere')"
   ]
  },
  {
   "cell_type": "code",
   "execution_count": 7,
   "metadata": {},
   "outputs": [
    {
     "data": {
      "text/plain": [
       "array([0., 1., 0., 1.], dtype=float32)"
      ]
     },
     "execution_count": 7,
     "metadata": {},
     "output_type": "execute_result"
    }
   ],
   "source": [
    "id = mujoco.mj_name2id(model, mujoco.mjtObj.mjOBJ_GEOM, 'green_sphere')\n",
    "model.geom_rgba[id, :]"
   ]
  },
  {
   "cell_type": "code",
   "execution_count": 8,
   "metadata": {},
   "outputs": [
    {
     "name": "stdout",
     "output_type": "stream",
     "text": [
      "id of \"green_sphere\":  1\n",
      "name of geom 1:  green_sphere\n",
      "name of body 0:  world\n"
     ]
    }
   ],
   "source": [
    "print('id of \"green_sphere\": ', model.geom('green_sphere').id)\n",
    "print('name of geom 1: ', model.geom(1).name)\n",
    "print('name of body 0: ', model.body(0).name)"
   ]
  },
  {
   "cell_type": "code",
   "execution_count": 9,
   "metadata": {},
   "outputs": [
    {
     "data": {
      "text/plain": [
       "['red_box', 'green_sphere']"
      ]
     },
     "execution_count": 9,
     "metadata": {},
     "output_type": "execute_result"
    }
   ],
   "source": [
    "[model.geom(i).name for i in range(model.ngeom)]"
   ]
  },
  {
   "cell_type": "markdown",
   "metadata": {},
   "source": [
    "# mjData"
   ]
  },
  {
   "cell_type": "code",
   "execution_count": 10,
   "metadata": {},
   "outputs": [],
   "source": [
    "data = mujoco.MjData(model)"
   ]
  },
  {
   "cell_type": "code",
   "execution_count": 11,
   "metadata": {},
   "outputs": [
    {
     "name": "stdout",
     "output_type": "stream",
     "text": [
      "[[0. 0. 0.]\n",
      " [0. 0. 0.]]\n"
     ]
    }
   ],
   "source": [
    "print(data.geom_xpos)"
   ]
  },
  {
   "cell_type": "code",
   "execution_count": 12,
   "metadata": {},
   "outputs": [
    {
     "name": "stdout",
     "output_type": "stream",
     "text": [
      "raw access:\n",
      " [[0.  0.  0. ]\n",
      " [0.2 0.2 0.2]]\n",
      "\n",
      "named access:\n",
      " [0.2 0.2 0.2]\n"
     ]
    }
   ],
   "source": [
    "mujoco.mj_kinematics(model, data)\n",
    "print('raw access:\\n', data.geom_xpos)\n",
    "\n",
    "# MjData also supports named access:\n",
    "print('\\nnamed access:\\n', data.geom('green_sphere').xpos)"
   ]
  },
  {
   "cell_type": "markdown",
   "metadata": {},
   "source": [
    "# Basic rendering, simulation, and animation"
   ]
  },
  {
   "cell_type": "code",
   "execution_count": 13,
   "metadata": {},
   "outputs": [
    {
     "data": {
      "text/html": [
       "<table class=\"show_images\" style=\"border-spacing:0px;\"><tr><td style=\"padding:1px;\"><img width=\"320\" height=\"240\" style=\"image-rendering:auto; object-fit:cover;\" src=\"data:image/png;base64,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\"/></td></tr></table>"
      ],
      "text/plain": [
       "<IPython.core.display.HTML object>"
      ]
     },
     "metadata": {},
     "output_type": "display_data"
    }
   ],
   "source": [
    "xml = \"\"\"\n",
    "<mujoco>\n",
    "  <worldbody>\n",
    "    <light name=\"top\" pos=\"0 0 1\"/>\n",
    "    <geom name=\"red_box\" type=\"box\" size=\".2 .2 .2\" rgba=\"1 0 0 1\"/>\n",
    "    <geom name=\"green_sphere\" pos=\".2 .2 .2\" size=\".1\" rgba=\"0 1 0 1\"/>\n",
    "  </worldbody>\n",
    "</mujoco>\n",
    "\"\"\"\n",
    "model = mujoco.MjModel.from_xml_string(xml)\n",
    "data = mujoco.MjData(model)\n",
    "renderer = mujoco.Renderer(model)\n",
    "\n",
    "mujoco.mj_forward(model, data)\n",
    "renderer.update_scene(data)\n",
    "\n",
    "media.show_image(renderer.render())"
   ]
  },
  {
   "cell_type": "code",
   "execution_count": 14,
   "metadata": {},
   "outputs": [
    {
     "data": {
      "text/html": [
       "<table class=\"show_images\" style=\"border-spacing:0px;\"><tr><td style=\"padding:1px;\"><img width=\"320\" height=\"240\" style=\"image-rendering:auto; object-fit:cover;\" src=\"data:image/png;base64,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\"/></td></tr></table>"
      ],
      "text/plain": [
       "<IPython.core.display.HTML object>"
      ]
     },
     "metadata": {},
     "output_type": "display_data"
    },
    {
     "ename": "",
     "evalue": "",
     "output_type": "error",
     "traceback": [
      "\u001b[1;31mThe Kernel crashed while executing code in the current cell or a previous cell. \n",
      "\u001b[1;31mPlease review the code in the cell(s) to identify a possible cause of the failure. \n",
      "\u001b[1;31mClick <a href='https://aka.ms/vscodeJupyterKernelCrash'>here</a> for more info. \n",
      "\u001b[1;31mView Jupyter <a href='command:jupyter.viewOutput'>log</a> for further details."
     ]
    }
   ],
   "source": [
    "# Run this cell multiple times for different colors\n",
    "model.geom('red_box').rgba[:3] = np.random.rand(3)\n",
    "renderer.update_scene(data)\n",
    "media.show_image(renderer.render())"
   ]
  },
  {
   "cell_type": "markdown",
   "metadata": {},
   "source": [
    "# Video"
   ]
  },
  {
   "cell_type": "code",
   "execution_count": null,
   "metadata": {},
   "outputs": [],
   "source": [
    "duration = 3.8  # (seconds)\n",
    "framerate = 60  # (Hz)\n",
    "\n",
    "# Simulate and display video.\n",
    "frames = []\n",
    "mujoco.mj_resetData(model, data)  # Reset state and time.\n",
    "while data.time < duration:\n",
    "  mujoco.mj_step(model, data)\n",
    "  if len(frames) < data.time * framerate:\n",
    "    renderer.update_scene(data)\n",
    "    pixels = renderer.render()\n",
    "    frames.append(pixels)\n",
    "media.show_video(frames, fps=framerate)"
   ]
  }
 ],
 "metadata": {
  "kernelspec": {
   "display_name": ".venv",
   "language": "python",
   "name": "python3"
  },
  "language_info": {
   "codemirror_mode": {
    "name": "ipython",
    "version": 3
   },
   "file_extension": ".py",
   "mimetype": "text/x-python",
   "name": "python",
   "nbconvert_exporter": "python",
   "pygments_lexer": "ipython3",
   "version": "3.9.12"
  }
 },
 "nbformat": 4,
 "nbformat_minor": 2
}
